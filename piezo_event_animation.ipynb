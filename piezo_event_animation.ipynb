{
 "cells": [
  {
   "cell_type": "code",
   "execution_count": null,
   "id": "e185da82-e371-4a08-9101-fb70fd57a2e4",
   "metadata": {
    "editable": true,
    "slideshow": {
     "slide_type": ""
    },
    "tags": []
   },
   "outputs": [],
   "source": [
    "# -*- coding: utf-8 -*-\n",
    "import pandas as pd\n",
    "import matplotlib\n",
    "import os\n",
    "from IPython.display import HTML\n",
    "import numpy as np\n",
    "\n",
    "# piezo list\n",
    "piezo = ['A', 'B', 'C', 'D', 'E', 'F', 'G', 'H', 'I', 'J', 'K', 'L', 'M', 'N', 'RAmont', 'RAval']\n",
    "\n",
    "df_piezo_dict = {}\n",
    "\n",
    "# read the excel file and add to the dictionary\n",
    "for p in piezo:\n",
    "    df_piezo_dict[p] = pd.read_excel('piezometry.xlsx', sheet_name=p)\n",
    "\n",
    "# read piezo coordinates csv\n",
    "csv_dir = os.path.join('data', 'bip', 'Piezometres')\n",
    "piezo_coords = pd.read_csv(os.path.join(csv_dir, 'piezo_coordinates.csv'))\n",
    "\n",
    "# read profile coordinates csv\n",
    "profile_coords = pd.read_csv(os.path.join(csv_dir, 'profile_coordinates.csv'))"
   ]
  },
  {
   "cell_type": "code",
   "execution_count": null,
   "id": "d3e647ee",
   "metadata": {},
   "outputs": [],
   "source": [
    "for k, v in df_piezo_dict.items():\n",
    "    print(k)\n",
    "    # order by date\n",
    "    v = v.sort_values(by='date_time')\n",
    "    # print duplicates\n",
    "    print(v[v.duplicated(subset='date_time', keep=False)])"
   ]
  },
  {
   "cell_type": "code",
   "execution_count": null,
   "id": "e2592597",
   "metadata": {},
   "outputs": [],
   "source": [
    "# combine for each piezo in piezo_dict to keep only level_ngf_m as level and date_time. The column 'name' will be used to identify the piezometer\n",
    "df = pd.DataFrame()\n",
    "for k, v in df_piezo_dict.items():\n",
    "    v['name'] = k\n",
    "    df = pd.concat([df, v], axis=0, ignore_index=True)\n",
    "df = df[['date_time', 'level_ngf_m', 'name']]\n",
    "df = df.sort_values(by='date_time', ascending=True)\n",
    "df = df.rename(columns={'date_time':'dt', 'level_ngf_m': 'level'})\n",
    "# add the coordinates of the piezometer with cols Est = x and Nord = y by merging with piezo_coords and unsing Point = name\n",
    "df = pd.merge(df, piezo_coords, left_on='name', right_on='Point', how='left')\n",
    "df = df.rename(columns={'Est': 'x', 'Nord': 'y', 'Alti': 'z'})\n",
    "df = df[['dt', 'level', 'name', 'x', 'y', 'z']]\n",
    "df"
   ]
  },
  {
   "cell_type": "code",
   "execution_count": null,
   "id": "3e17b4ed",
   "metadata": {},
   "outputs": [],
   "source": [
    "# df z elevation piezometer\n",
    "df_z = df.copy()\n",
    "# group by name and get the first value of x, y and z\n",
    "df_z = df_z.groupby('name').first().reset_index()\n",
    "df_z = df_z[['name', 'x', 'y', 'z']]"
   ]
  },
  {
   "cell_type": "code",
   "execution_count": null,
   "id": "b92ccd22",
   "metadata": {},
   "outputs": [],
   "source": [
    "# prepare the dataframe for animation\n",
    "\n",
    "# filter df by date from 2024-03-02 to 2024-04-17\n",
    "df_event = df[(df['dt'] >= '2024-03-02') & (df['dt'] <= '2024-04-17')]\n",
    "\n",
    "# create dataframe but mean the level for each day and each piezometer\n",
    "df_day = df_event.copy()\n",
    "df_day['dt'] = df_day['dt'].dt.date\n",
    "df_day = df_day.groupby(['dt', 'name', 'x', 'y', 'z']).mean().reset_index()\n",
    "\n",
    "# create dateframe with distance between piezometer A-C, D-G, H-K, L-N\n",
    "df_dist = pd.DataFrame({'name1': ['A', 'D', 'H', 'L'], 'name2': ['C', 'G', 'K', 'N'], 'dist': [0, 0, 0, 0]})\n",
    "df_dist = pd.merge(df_dist, df_z, left_on='name1', right_on='name', how='left')\n",
    "df_dist = pd.merge(df_dist, df_z, left_on='name2', right_on='name', how='left')\n",
    "df_dist['dist'] = np.sqrt((df_dist['x_x'] - df_dist['x_y'])**2 + (df_dist['y_x'] - df_dist['y_y'])**2)\n",
    "df_dist = df_dist[['name1', 'name2', 'dist']]\n",
    "df_dist"
   ]
  },
  {
   "cell_type": "code",
   "execution_count": null,
   "id": "06ac95d9",
   "metadata": {},
   "outputs": [],
   "source": [
    "import numpy as np\n",
    "import pandas as pd\n",
    "import matplotlib.pyplot as plt\n",
    "from mpl_toolkits.mplot3d import Axes3D\n",
    "from matplotlib.animation import FuncAnimation\n",
    "\n",
    "# Set up the figure and axis\n",
    "fig = plt.figure()\n",
    "ax = fig.add_subplot(111, projection='3d')\n",
    "# view angle\n",
    "ax.view_init(10, -90)\n",
    "\n",
    "# Function to update the plot\n",
    "def update(frame):\n",
    "    ax.cla()  # Clear the axis\n",
    "\n",
    "    # add profile coordinates\n",
    "    ax.scatter(profile_coords['x'], profile_coords['y'], profile_coords['z'], color='grey')\n",
    "\n",
    "    # add piezo z coordinates scatter with df_day x, y and z\n",
    "    ax.scatter(df_z['x'], df_z['y'], df_z['z'], color='grey')\n",
    "    \n",
    "    # Get data for the current frame\n",
    "    current_time = df_day['dt'].unique()[frame]\n",
    "    data_current_time = df_day[df_day['dt'] == current_time]\n",
    "\n",
    "    # Extract coordinates\n",
    "    x = data_current_time['x'].values\n",
    "    y = data_current_time['y'].values\n",
    "    level = data_current_time['level'].values\n",
    "    \n",
    "    # Plot points\n",
    "    ax.scatter(x, y, level, color = 'blue', s=80, marker='o')\n",
    "    \n",
    "    # # Plot lines\n",
    "    # ax.plot([x[0], x[1]], [y[0], y[1]], [level[0], level[1]], color='blue')\n",
    "    # ax.plot([x[1], x[2]], [y[1], y[2]], [level[1], level[2]], color='blue')\n",
    "    \n",
    "    # Set limits\n",
    "    ax.set_xlim(df_day['x'].min()-1, df_day['x'].max()+1)\n",
    "    ax.set_ylim(df_day['y'].min()-1, df_day['y'].max()+1)\n",
    "    ax.set_zlim(df_day['level'].min()-1, df_day['level'].max()+1)\n",
    "    \n",
    "    # Add a cursor for the date\n",
    "    ax.text2D(0.05, 0.95, str(current_time), transform=ax.transAxes)\n",
    "\n",
    "    # add label by name\n",
    "    for i, txt in enumerate(data_current_time['name']):\n",
    "        ax.text(x[i], y[i], level[i], txt, color='red')\n",
    "\n",
    "# Create the animation\n",
    "ani = FuncAnimation(fig, update, frames=len(df_day['dt'].unique()), interval=1000)\n",
    "\n",
    "# Display the plot\n",
    "HTML(ani.to_jshtml())\n",
    "\n",
    "# save the animation\n",
    "# ani.save('animation.gif', writer='PillowWriter', fps=2)\n"
   ]
  }
 ],
 "metadata": {
  "kernelspec": {
   "display_name": "env",
   "language": "python",
   "name": "python3"
  },
  "language_info": {
   "codemirror_mode": {
    "name": "ipython",
    "version": 3
   },
   "file_extension": ".py",
   "mimetype": "text/x-python",
   "name": "python",
   "nbconvert_exporter": "python",
   "pygments_lexer": "ipython3",
   "version": "3.10.11"
  }
 },
 "nbformat": 4,
 "nbformat_minor": 5
}
