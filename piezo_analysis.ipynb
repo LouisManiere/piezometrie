{
 "cells": [
  {
   "cell_type": "markdown",
   "id": "1250d40e",
   "metadata": {},
   "source": [
    "# Piezometer analysis\n",
    "\n",
    "## import libraries"
   ]
  },
  {
   "cell_type": "code",
   "execution_count": null,
   "id": "0518ef66",
   "metadata": {},
   "outputs": [],
   "source": [
    "# -*- coding: utf-8 -*-\n",
    "import pandas as pd\n",
    "import matplotlib\n",
    "import os\n",
    "from IPython.display import HTML\n",
    "import numpy as np\n",
    "from datetime import datetime\n",
    "from matplotlib import pyplot as plt"
   ]
  },
  {
   "cell_type": "markdown",
   "id": "7b60a1dc",
   "metadata": {},
   "source": [
    "## Read datasets"
   ]
  },
  {
   "cell_type": "code",
   "execution_count": null,
   "id": "e185da82-e371-4a08-9101-fb70fd57a2e4",
   "metadata": {
    "editable": true,
    "slideshow": {
     "slide_type": ""
    },
    "tags": []
   },
   "outputs": [],
   "source": [
    "# piezo list\n",
    "piezo = ['A', 'B', 'C', 'D', 'E', 'F', 'G', 'H', 'I', 'J', 'K', 'L', 'M', 'N', 'RAmont', 'RAval']\n",
    "\n",
    "df_piezo_dict = {}\n",
    "\n",
    "# read the excel file and add to the dictionary\n",
    "for p in piezo:\n",
    "    df_piezo_dict[p] = pd.read_excel('piezometry.xlsx', sheet_name=p)\n",
    "\n",
    "# read piezo coordinates csv\n",
    "csv_dir = os.path.join('data', 'bip', 'Piezometres')\n",
    "piezo_coords = pd.read_csv(os.path.join(csv_dir, 'piezo_coordinates.csv'))\n",
    "\n",
    "# read profile coordinates csv\n",
    "profile_coords = pd.read_csv(os.path.join(csv_dir, 'profile_coordinates.csv'))\n",
    "\n",
    "# read distance chenal piezo csv\n",
    "distance_chenal_piezo = pd.read_csv(os.path.join(csv_dir, 'distance_chenal_piezo.csv'), index_col = 'fid')\n",
    "\n",
    "# read berge piezo csv\n",
    "berges_piezo = pd.read_csv(os.path.join(csv_dir, 'berges_piezo.csv'), index_col = 'fid')\n",
    "# convert date to datetime\n",
    "berges_piezo['date'] = pd.to_datetime(berges_piezo['date'])\n"
   ]
  },
  {
   "cell_type": "markdown",
   "id": "d6e5b3db",
   "metadata": {},
   "source": [
    "## Add distance sum from RAmont to each different piezometer section and the RAmont-RAval distance\n",
    "\n",
    "- Define the distance to sum.\n",
    "- Append the distance_chenal_piezo dataset with the summed."
   ]
  },
  {
   "cell_type": "code",
   "execution_count": null,
   "id": "d10eb859",
   "metadata": {},
   "outputs": [],
   "source": [
    "# Rows to sum\n",
    "RAmont_RAval = ['RAmont_RLMN', 'RLMN_RHIJK', 'RHIJK_RDEFG', 'RDEFG_RABC', 'RABC_RAval']\n",
    "RAmont_RABC = ['RAmont_RLMN', 'RLMN_RHIJK', 'RHIJK_RDEFG', 'RDEFG_RABC']\n",
    "RAmont_RDEFG = ['RAmont_RLMN', 'RLMN_RHIJK', 'RHIJK_RDEFG']\n",
    "RAmont_RHIJK = ['RAmont_RLMN', 'RLMN_RHIJK']\n",
    "# create lines to append\n",
    "RAmont_distance = pd.DataFrame([['RAmont_RAval', sum(distance_chenal_piezo[distance_chenal_piezo.name.isin(RAmont_RAval)].distance_m)],\n",
    "                                ['RAmont_RABC', sum(distance_chenal_piezo[distance_chenal_piezo.name.isin(RAmont_RABC)].distance_m)],\n",
    "                                ['RAmont_RDEFG', sum(distance_chenal_piezo[distance_chenal_piezo.name.isin(RAmont_RDEFG)].distance_m)],\n",
    "                                ['RAmont_RHIJK', sum(distance_chenal_piezo[distance_chenal_piezo.name.isin(RAmont_RHIJK)].distance_m)]], \n",
    "                                columns = ['name', 'distance_m'])\n",
    "# concatenate the two dataframes\n",
    "distance_chenal_piezo = pd.concat([distance_chenal_piezo, RAmont_distance])"
   ]
  },
  {
   "cell_type": "markdown",
   "id": "bb0df7ed",
   "metadata": {},
   "source": [
    "## Rearrange piezometer level dataset to keep only level_ngf_m\n",
    "\n",
    "- Combine for each piezo in piezo_dict to keep only level_ngf_m as level and date_time.\n",
    "- The column 'name' will be used to identify the piezometer"
   ]
  },
  {
   "cell_type": "code",
   "execution_count": null,
   "id": "e2592597",
   "metadata": {},
   "outputs": [],
   "source": [
    "# combine for each piezo in piezo_dict to keep only level_ngf_m as level and date_time. The column 'name' will be used to identify the piezometer\n",
    "df = pd.DataFrame()\n",
    "for k, v in df_piezo_dict.items():\n",
    "    v['name'] = k\n",
    "    df = pd.concat([df, v], axis=0, ignore_index=True)\n",
    "df = df[['date_time', 'level_ngf_m', 'name']]\n",
    "df = df.sort_values(by='date_time', ascending=True)\n",
    "df = df.rename(columns={'date_time':'dt', 'level_ngf_m': 'level'})\n",
    "# add the coordinates of the piezometer with cols Est = x and Nord = y by merging with piezo_coords and using Point = name\n",
    "df = pd.merge(df, piezo_coords, left_on='name', right_on='Point', how='left')\n",
    "df = df.rename(columns={'Est': 'x', 'Nord': 'y', 'Alti': 'z'})\n",
    "df = df[['dt', 'level', 'name', 'x', 'y', 'z']]"
   ]
  },
  {
   "cell_type": "markdown",
   "id": "3f3a92c6",
   "metadata": {},
   "source": [
    "## Create a piezometer level dataset coordinate and compute distance"
   ]
  },
  {
   "cell_type": "code",
   "execution_count": null,
   "id": "3e17b4ed",
   "metadata": {},
   "outputs": [],
   "source": [
    "# df z elevation piezometer\n",
    "df_z = df.copy()\n",
    "# group by name and get the first value of x, y and z\n",
    "df_z = df_z.groupby('name').first().reset_index()\n",
    "df_z = df_z[['name', 'x', 'y', 'z']]"
   ]
  },
  {
   "cell_type": "code",
   "execution_count": null,
   "id": "253c2172",
   "metadata": {},
   "outputs": [],
   "source": [
    "# create dateframe with distance between piezometer A-C, D-G, H-K, L-N\n",
    "df_dist = pd.DataFrame({'name1': ['A', 'B', 'D', 'E', 'F', 'H', 'I', 'J', 'L', 'M'], \n",
    "                        'name2': ['B', 'C', 'E', 'F', 'G', 'I', 'J', 'K', 'M', 'N'], 'dist': [0, 0, 0, 0, 0, 0, 0, 0, 0, 0]})\n",
    "df_dist = pd.merge(df_dist, df_z, left_on='name1', right_on='name', how='left')\n",
    "df_dist = pd.merge(df_dist, df_z, left_on='name2', right_on='name', how='left')\n",
    "df_dist['dist'] = np.sqrt((df_dist['x_x'] - df_dist['x_y'])**2 + (df_dist['y_x'] - df_dist['y_y'])**2)\n",
    "df_dist = df_dist[['name1', 'name2', 'dist']]"
   ]
  },
  {
   "cell_type": "markdown",
   "id": "4ea14faa",
   "metadata": {},
   "source": [
    "## River level for each piezometer section and slope from nearest piezometer\n",
    "\n",
    "- Pivot piezometer level dataset, remove rows without RAmont or RAval level.\n",
    "- Calculate slope between on section.\n",
    "- Compute bank river level for each piezometer section by distance fraction between RAmont and RAval.\n",
    "- Get bank coordinate and distance from nearest section piezometer by date.\n",
    "- Compute slope between nearest piezometer and bank river level"
   ]
  },
  {
   "cell_type": "code",
   "execution_count": null,
   "id": "d983d33f",
   "metadata": {},
   "outputs": [],
   "source": [
    "# pivot table to have piezometer as columns\n",
    "df_pivot = df.pivot_table(index='dt', columns='name', values='level')\n",
    "\n",
    "# remove line if RAmont or RAval are NaN\n",
    "df_pivot = df_pivot.dropna(subset=['RAmont', 'RAval'])\n",
    "\n",
    "# calculate slope between piezometer\n",
    "for couple in df_dist.iterrows():\n",
    "    df_pivot[couple[1]['name2']+'-'+couple[1]['name1']] = (df_pivot[couple[1]['name2']] - df_pivot[couple[1]['name1']]) / couple[1]['dist']"
   ]
  },
  {
   "cell_type": "markdown",
   "id": "c27ebe36",
   "metadata": {},
   "source": [
    "## River level for each piezometer section and slope from nearest piezometer\n",
    "\n",
    "- Compute bank river level for each piezometer section by distance fraction between RAmont and RAval.\n",
    "- Get bank coordinate and distance from nearest section piezometer by the previous date (and not the closest date!).\n",
    "- Compute slope between nearest piezometer and bank river level"
   ]
  },
  {
   "cell_type": "code",
   "execution_count": null,
   "id": "c2ab8661",
   "metadata": {},
   "outputs": [],
   "source": [
    "piezo_river = [['C', 'RABC'], ['G', 'RDEFG'], ['K', 'RHIJK'], ['N', 'RLMN']]\n",
    "\n",
    "# Compute river water level for each transect\n",
    "diff_RAmont_RAval = df_pivot['RAmont'] - df_pivot['RAval']\n",
    "# get the distance between RAmont and RAval\n",
    "dist_RAmont_RAval = distance_chenal_piezo.loc[distance_chenal_piezo['name'] == 'RAmont_RAval', 'distance_m'].values[0]\n",
    "\n",
    "for piezo, river in piezo_river:\n",
    "    # Precompute the distance for each transect to avoid recalculating\n",
    "    dist_RAmont_transect = distance_chenal_piezo.loc[distance_chenal_piezo['name'] == f'RAmont_{river}', 'distance_m'].values[0]\n",
    "    \n",
    "    # Calculate the river column in one vectorized operation\n",
    "    df_pivot[river] = df_pivot['RAmont'] - (diff_RAmont_RAval * (dist_RAmont_transect / dist_RAmont_RAval))\n",
    "\n",
    "    # Prepare slope column and pre-filter berges_piezo_river and df_z_piezo for efficiency\n",
    "    df_pivot[f'{river}-{piezo}'] = np.nan\n",
    "    berges_piezo_river = berges_piezo[berges_piezo['name'] == river].sort_values(by=\"date\")\n",
    "    df_z_piezo = df_z[df_z['name'] == piezo]\n",
    "\n",
    "    # Precompute piezo coordinates for distance calculation\n",
    "    piezo_x, piezo_y = df_z_piezo['x'].iloc[0], df_z_piezo['y'].iloc[0]\n",
    "\n",
    "    for i, target_date in enumerate(df_pivot.index):\n",
    "        # Filter x_y_river only once per date\n",
    "        x_y_river = berges_piezo_river[(berges_piezo_river['date'] <= target_date) & (berges_piezo_river['date'].shift(-1) > target_date)]\n",
    "        \n",
    "        if not x_y_river.empty:\n",
    "            # Compute the distance only once for each valid x_y_river\n",
    "            dist_piezo_river = np.sqrt((piezo_x - x_y_river['x'].iloc[0])**2 + (piezo_y - x_y_river['y'].iloc[0])**2)\n",
    "            # Compute slope, use .at[] for single cell assignment to avoid multiple lookups\n",
    "            df_pivot.at[target_date, f'{river}-{piezo}'] = (df_pivot.at[target_date, river] - df_pivot.at[target_date, piezo]) / dist_piezo_river\n"
   ]
  },
  {
   "cell_type": "code",
   "execution_count": null,
   "id": "6921479a",
   "metadata": {},
   "outputs": [],
   "source": [
    "df_pivot[['RAmont', 'RAval', 'RABC', 'RDEFG', 'RHIJK', 'RLMN']]"
   ]
  },
  {
   "cell_type": "markdown",
   "id": "bdc1f8a3",
   "metadata": {},
   "source": [
    "## Make plotly graph"
   ]
  },
  {
   "cell_type": "code",
   "execution_count": null,
   "id": "ad18f767",
   "metadata": {},
   "outputs": [],
   "source": [
    "# Make plotly graph for RABC-C slope and RABC level on secondary y-axis with add_trace\n",
    "import plotly.graph_objects as go\n",
    "\n",
    "fig = go.Figure()\n",
    "fig.add_trace(go.Scatter(x=df_pivot.index, y=df_pivot['RABC-C'], mode='lines', name='RABC-C slope', line=dict(color='blue')))\n",
    "fig.add_trace(go.Scatter(x=df_pivot.index, y=df_pivot['RABC'], mode='lines', name='RABC level', line=dict(color='red'), yaxis='y2'))\n",
    "fig.update_layout(yaxis=dict(title='slope (m/m)', side='left'), yaxis2=dict(title='level (m)', side='right', overlaying='y', showgrid=False))\n",
    "fig.show()\n"
   ]
  },
  {
   "cell_type": "code",
   "execution_count": null,
   "id": "bf0073b1",
   "metadata": {},
   "outputs": [],
   "source": [
    "# Make plotly graph for RDEFG-G slope and RDEFG level on secondary y-axis with add_trace\n",
    "import plotly.graph_objects as go\n",
    "\n",
    "fig = go.Figure()\n",
    "fig.add_trace(go.Scatter(x=df_pivot.index, y=df_pivot['RDEFG-G'], mode='lines', name='RDEFG-G slope', line=dict(color='blue')))\n",
    "fig.add_trace(go.Scatter(x=df_pivot.index, y=df_pivot['RDEFG'], mode='lines', name='RDEFG level', line=dict(color='red'), yaxis='y2'))\n",
    "fig.update_layout(yaxis=dict(title='slope (m/m)', side='left'), yaxis2=dict(title='level (m)', side='right', overlaying='y', showgrid=False))\n",
    "fig.show()"
   ]
  },
  {
   "cell_type": "code",
   "execution_count": null,
   "id": "fcba2620",
   "metadata": {},
   "outputs": [],
   "source": [
    "# Make plotly graph for RHIJK-K slope and RHIJK level on secondary y-axis with add_trace\n",
    "import plotly.graph_objects as go\n",
    "\n",
    "fig = go.Figure()\n",
    "fig.add_trace(go.Scatter(x=df_pivot.index, y=df_pivot['RHIJK-K'], mode='lines', name='RHIJK-K slope', line=dict(color='blue')))\n",
    "fig.add_trace(go.Scatter(x=df_pivot.index, y=df_pivot['RHIJK'], mode='lines', name='RHIJK level', line=dict(color='red'), yaxis='y2'))\n",
    "fig.update_layout(yaxis=dict(title='slope (m/m)', side='left'), yaxis2=dict(title='level (m)', side='right', overlaying='y', showgrid=False))\n",
    "fig.show()"
   ]
  },
  {
   "cell_type": "code",
   "execution_count": null,
   "id": "b7e5c02c",
   "metadata": {},
   "outputs": [],
   "source": [
    "# Make plotly graph for RLMN-N slope and RLMN level on secondary y-axis with add_trace\n",
    "import plotly.graph_objects as go\n",
    "\n",
    "fig = go.Figure()\n",
    "fig.add_trace(go.Scatter(x=df_pivot.index, y=df_pivot['RLMN-N'], mode='lines', name='RLMN-N slope', line=dict(color='blue')))\n",
    "fig.add_trace(go.Scatter(x=df_pivot.index, y=df_pivot['RLMN'], mode='lines', name='RLMN level', line=dict(color='red'), yaxis='y2'))\n",
    "fig.update_layout(yaxis=dict(title='slope (m/m)', side='left'), yaxis2=dict(title='level (m)', side='right', overlaying='y', showgrid=False))\n",
    "fig.show()"
   ]
  },
  {
   "cell_type": "code",
   "execution_count": null,
   "id": "8d5f66f6",
   "metadata": {},
   "outputs": [],
   "source": [
    "# \n",
    "df_pivot_2 = df_pivot.copy()\n",
    "df_pivot_2 = df_pivot_2[30000:30003].loc[:, df_pivot_2.columns.str.contains('C|RAmont|RAval')]\n",
    "df_pivot_2['RABC'] = np.nan\n",
    "df_pivot_2['C-RABC'] = np.nan\n",
    "for i in range(0, len(df_pivot_2)):\n",
    "    print(i)\n",
    "    print(df_pivot_2['RAmont'].iloc[i])\n",
    "    diff_RAmont_RAval = df_pivot_2['RAmont'].iloc[i]-df_pivot_2['RAval'].iloc[i]\n",
    "    dist_RAmont_RABC = distance_chenal_piezo[distance_chenal_piezo['name'].isin(['RAmont_RABC'])].distance_m.values\n",
    "    dist_RAmont_RAval = distance_chenal_piezo[distance_chenal_piezo['name'].isin(['RAmont_RAval'])].distance_m.values\n",
    "    df_pivot_2.loc[df_pivot_2.index[i], 'RABC'] = df_pivot_2['RAmont'].iloc[i]-(diff_RAmont_RAval)*(dist_RAmont_RABC/dist_RAmont_RAval)\n",
    "    # slope\n",
    "    berges_piezo_RABC = berges_piezo[berges_piezo.name.isin(['RABC'])].sort_values(by=\"date\")\n",
    "    df_z_c = df_z[df_z.name.isin(['C'])]\n",
    "    target_date = df_pivot_2.index.values[i]\n",
    "    x_y_rabc = berges_piezo_RABC[(berges_piezo_RABC['date'] <= target_date) & (berges_piezo_RABC['date'].shift(-1) > target_date)]\n",
    "    dist_c_rabc = np.sqrt((df_z_c['x'].iloc[0] - x_y_rabc['x'].iloc[0])**2 + (df_z_c['y'].iloc[0] - x_y_rabc['y'].iloc[0])**2)\n",
    "    df_pivot_2.loc[df_pivot_2.index[i], 'C-RABC'] = (df_pivot_2['C'].iloc[i] - df_pivot_2['RABC'].iloc[i])/dist_c_rabc\n",
    "\n",
    "df_pivot_2"
   ]
  },
  {
   "cell_type": "code",
   "execution_count": null,
   "id": "82c3fc05",
   "metadata": {},
   "outputs": [],
   "source": [
    "berges_piezo[berges_piezo.name.isin(['RABC'])].sort_values(by=\"date\")"
   ]
  },
  {
   "cell_type": "code",
   "execution_count": null,
   "id": "bfd52a21",
   "metadata": {},
   "outputs": [],
   "source": [
    "berges_piezo_ABC = berges_piezo[berges_piezo.name.isin(['RABC'])].sort_values(by=\"date\")\n",
    "df_z_C = df_z[df_z.name.isin(['C'])]\n",
    "target_date = df_pivot_2.index.values[1]\n",
    "# berges_piezo_ABC['date']<= target_date\n",
    "\n",
    "# target_date = pd.to_datetime(\"2024-04-25\")\n",
    "\n",
    "\n",
    "interval = berges_piezo_ABC[(berges_piezo_ABC['date'] <= target_date) & (berges_piezo_ABC['date'].shift(-1) > target_date)]\n",
    "\n",
    "# df_pivot_2['C'].iloc[1] \n",
    "# interval['x'].iloc[0]\n",
    "dist_C_RABC = np.sqrt((df_z_C['x'].iloc[0] - interval['x'].iloc[0])**2 + (df_z_C['y'].iloc[0] - interval['y'].iloc[0])**2)\n",
    "slope_c_rabc = df_pivot_2['C'].iloc[1] - \n",
    "# interval"
   ]
  },
  {
   "cell_type": "code",
   "execution_count": null,
   "id": "5e8fba78",
   "metadata": {},
   "outputs": [],
   "source": [
    "df_z[df_z.name.isin(['C'])]['x']"
   ]
  },
  {
   "cell_type": "code",
   "execution_count": null,
   "id": "83674fad",
   "metadata": {},
   "outputs": [],
   "source": [
    "# calculate slope between A and C for each day\n",
    "df_slope = df.copy()\n",
    "df_slope = df_slope[df_slope['name'].isin(['A', 'C'])]\n",
    "df_slope = df_slope.pivot(index='dt', columns='name', values='level')\n",
    "# calculate slope between A and C\n",
    "df_slope['slope'] = (df_slope['C'] - df_slope['A']) / df_dist.loc[0, 'dist']*100\n",
    "df_slope = df_slope.reset_index()\n",
    "\n",
    "# plot C and A level on the first y axis and the slope on the second y axis, all on the same graph with two y axis\n",
    "fig, ax1 = plt.subplots()\n",
    "ax2 = ax1.twinx()\n",
    "ax1.plot(df_slope['dt'], df_slope['A'], 'g-')\n",
    "ax1.plot(df_slope['dt'], df_slope['C'], 'r-')\n",
    "ax2.plot(df_slope['dt'], df_slope['slope'], 'b-')\n",
    "# add labels\n",
    "ax1.set_xlabel('Date')\n",
    "ax1.set_ylabel('A and C level [m]', color='black')\n",
    "ax2.set_ylabel('Slope A-C [%]', color='black')\n",
    "# add legend without overlapping\n",
    "ax1.legend(['A', 'C'], loc='upper left')\n",
    "ax2.legend(['Slope A-C'], loc='upper right')\n",
    "# add an horizontal line at 0 slope\n",
    "ax2.axhline(y=0, color='black', linestyle='--')\n",
    "plt.show()\n"
   ]
  },
  {
   "cell_type": "code",
   "execution_count": null,
   "id": "728d26f8",
   "metadata": {},
   "outputs": [],
   "source": [
    "# create dataframe with only A piezometer\n",
    "df_A = df[df['name'] == 'A']\n",
    "# remove value if level variation is greater than 1m\n",
    "df_A['level_diff'] = df_A['level'].diff()\n",
    "# if level_diff is greater than 1, replace level by NaN\n",
    "# df_A[df_A['level_diff'] < -1]\n",
    "df_A.loc[df_A['level_diff'] < -1, 'level'] = np.nan\n",
    "# if level_diff is greater than 1, replace level_diff by NaN\n",
    "df_A.loc[df_A['level_diff'] < -1, 'level_diff'] = np.nan\n",
    "df_A.loc[df_A['level_diff'] > 1, 'level_diff'] = np.nan\n",
    "# for NaN values in level, interpolate linearly with the previous and next non NaN values\n",
    "df_A['level'] = df_A['level'].interpolate(method='linear')\n",
    "df_A['level_diff'] = df_A['level_diff'].interpolate(method='linear')\n",
    "df_A = df_A[df_A['dt'] > '2023-01-31 10:00:00']\n",
    "df_A\n",
    "\n",
    "\n",
    "\n",
    "\n",
    "\n"
   ]
  },
  {
   "cell_type": "code",
   "execution_count": null,
   "id": "0f03d5a8",
   "metadata": {},
   "outputs": [],
   "source": [
    "df_A = df[df['name'] == 'A']\n",
    "df_A"
   ]
  },
  {
   "cell_type": "code",
   "execution_count": null,
   "id": "ad3830e9",
   "metadata": {},
   "outputs": [],
   "source": [
    "def process_piezometer_data(df, piezometer_name, time_filter):\n",
    "    # Filter dataframe for the specified piezometer\n",
    "    df_filtered = df[df['name'] == piezometer_name].copy()\n",
    "    \n",
    "    # Calculate the difference in level\n",
    "    df_filtered['level_diff'] = df_filtered['level'].diff()\n",
    "    \n",
    "    # Replace level and level_diff with NaN if level_diff is outside the specified range\n",
    "    df_filtered.loc[df_filtered['level_diff'] < -1, 'level'] = np.nan\n",
    "    df_filtered.loc[df_filtered['level_diff'] < -1, 'level_diff'] = np.nan\n",
    "    df_filtered.loc[df_filtered['level_diff'] > 1, 'level_diff'] = np.nan\n",
    "    \n",
    "    # Interpolate NaN values in 'level' and 'level_diff' columns\n",
    "    df_filtered['level'] = df_filtered['level'].interpolate(method='linear')\n",
    "    df_filtered['level_diff'] = df_filtered['level_diff'].interpolate(method='linear')\n",
    "    \n",
    "    # Filter by the given timestamp\n",
    "    df_filtered = df_filtered[df_filtered['dt'] > time_filter]\n",
    "    \n",
    "    return df_filtered\n",
    "\n",
    "# Process data for piezometer A\n",
    "df_C = process_piezometer_data(df, 'C', '2023-01-31 10:00:00')"
   ]
  },
  {
   "cell_type": "code",
   "execution_count": null,
   "id": "2659c11f",
   "metadata": {},
   "outputs": [],
   "source": [
    "df_C\n"
   ]
  },
  {
   "cell_type": "code",
   "execution_count": null,
   "id": "db382ab5",
   "metadata": {},
   "outputs": [],
   "source": [
    "import plotly.graph_objects as go\n",
    "from plotly.subplots import make_subplots\n",
    "\n",
    "# Create figure with secondary y-axis\n",
    "fig = make_subplots(specs=[[{\"secondary_y\": True}]])\n",
    "\n",
    "# Add traces\n",
    "fig.add_trace(\n",
    "    go.Scatter(x=df_A['dt'], y=df_A['level'], name=\"level\"),\n",
    "    secondary_y=False,\n",
    ")\n",
    "\n",
    "fig.add_trace(\n",
    "    go.Scatter(x=df_A['dt'], y=df_A['level_diff'], name=\"level diff\"),\n",
    "    secondary_y=True,\n",
    ")\n",
    "\n",
    "# Add figure title\n",
    "fig.update_layout(\n",
    "    title_text=\"A piezometer level and level variation\"\n",
    ")\n",
    "\n",
    "# Set x-axis title\n",
    "fig.update_xaxes(title_text=\"xaxis title\")\n",
    "\n",
    "# Set y-axes titles\n",
    "fig.update_yaxes(title_text=\"level (m)\", secondary_y=False)\n",
    "fig.update_yaxes(\n",
    "    title_text=\"Level variation (m)\", \n",
    "    secondary_y=True, \n",
    "    range=[-0.15, 0.15],        # Set the range of the secondary axis\n",
    "    side='right',          # Keep both axes on the left\n",
    "    showgrid=False,       # Hide the grid for the secondary axis\n",
    ")\n",
    "\n",
    "fig.show()"
   ]
  },
  {
   "cell_type": "code",
   "execution_count": null,
   "id": "aa8acf62",
   "metadata": {},
   "outputs": [],
   "source": [
    "# plot A level piezometer\n",
    "fig, ax = plt.subplots()\n",
    "df_A = df[df['name'] == 'A']\n",
    "ax.plot(df_A['dt'], df_A['level'])\n",
    "ax.set_xlabel('Date')\n",
    "ax.set_ylabel('A level [m]')\n",
    "plt.show()"
   ]
  },
  {
   "cell_type": "code",
   "execution_count": null,
   "id": "747ec390",
   "metadata": {},
   "outputs": [],
   "source": [
    "# plot all the piezometer level\n",
    "fig, ax = plt.subplots()\n",
    "for name in df['name'].unique():\n",
    "    df_p = df[df['name'] == name]\n",
    "    ax.plot(df_p['dt'], df_p['level'], label=name)\n",
    "ax.set_xlabel('Date')\n",
    "ax.set_ylabel('Level [m]')\n",
    "ax.legend(loc='upper left')\n",
    "plt.show()\n"
   ]
  }
 ],
 "metadata": {
  "kernelspec": {
   "display_name": "env",
   "language": "python",
   "name": "python3"
  },
  "language_info": {
   "codemirror_mode": {
    "name": "ipython",
    "version": 3
   },
   "file_extension": ".py",
   "mimetype": "text/x-python",
   "name": "python",
   "nbconvert_exporter": "python",
   "pygments_lexer": "ipython3",
   "version": "3.10.11"
  }
 },
 "nbformat": 4,
 "nbformat_minor": 5
}
